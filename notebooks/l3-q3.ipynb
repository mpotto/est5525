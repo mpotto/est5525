{
 "cells": [
  {
   "cell_type": "markdown",
   "id": "c50a38ea-5853-453c-98df-50cb63e3fdbb",
   "metadata": {},
   "source": [
    "## Lista 3 - Questão 3"
   ]
  },
  {
   "cell_type": "markdown",
   "id": "e2a74ae6-ab3e-4268-8e3d-c2852441fe33",
   "metadata": {},
   "source": [
    "### Letra f)"
   ]
  },
  {
   "cell_type": "markdown",
   "id": "754c9d45-dd3f-46fe-b4b7-7c53afc85a51",
   "metadata": {},
   "source": [
    "**Função 1: Simuladora do estado seguinte da cadeia**"
   ]
  },
  {
   "cell_type": "code",
   "execution_count": 1,
   "id": "65beae8c-54df-40fd-9f5c-fb2a53b0c21e",
   "metadata": {},
   "outputs": [],
   "source": [
    "transicao <- function(i){ #A partir do estado i, simula o próximo estado\n",
    "  u <- runif(1)\n",
    "  if(i == 1) return(2)\n",
    "  else if(i == 2){\n",
    "    if(u <= .5) return(3)\n",
    "    else return(7)\n",
    "  } else if(i == 3) return(3)\n",
    "  else if(i == 4) return(6)\n",
    "  else if(i == 5){\n",
    "    if(u <= 1/3) return(4)\n",
    "    else if(u <= 2/3) return(6)\n",
    "    else return(7)\n",
    "  } else if(i == 6) return(4)\n",
    "  else if(i == 7){\n",
    "    if(u <= .5) return(1)\n",
    "    else return(4)\n",
    "  }\n",
    "}"
   ]
  },
  {
   "cell_type": "markdown",
   "id": "2ea950aa-1564-414f-86ca-4bfd520dbd66",
   "metadata": {},
   "source": [
    "**Função 2: Número de visitas partindo do estado 2**"
   ]
  },
  {
   "cell_type": "code",
   "execution_count": 2,
   "id": "9574fa2b-0c67-4081-89c9-bef2d7556aac",
   "metadata": {},
   "outputs": [],
   "source": [
    "num_visitas <- function(N){ #N - número de repetições\n",
    "  visitas <- rep(1, N) #Inicializando o nímero de visitas\n",
    "  for(i in 1:N){\n",
    "    cond <- T #Condicao do loop\n",
    "    estado <- 2 #Estado inicial, do que se esta partindo\n",
    "    while(cond){\n",
    "      #Caso se chegue aos estados 3 ou 4, já não há como retornar para 2\n",
    "      estado <- transicao(estado) #Alterando o estado atual\n",
    "      if(estado == 2){\n",
    "        visitas[i] <- visitas[i] + 1 #Se chegar ao 2, adicionar uma visita\n",
    "      }\n",
    "      else if(estado == 3 | estado == 4){\n",
    "        cond <- F #Parar o loop, já não se pode voltar para 2\n",
    "      }\n",
    "    }\n",
    "  }\n",
    "  return(mean(visitas)) #Retornando a estimativa do número de visitas médio\n",
    "}"
   ]
  },
  {
   "cell_type": "code",
   "execution_count": 3,
   "id": "d6cf926c-f052-4dee-bf37-d9243162b21b",
   "metadata": {},
   "outputs": [
    {
     "data": {
      "text/html": [
       "1.3334636"
      ],
      "text/latex": [
       "1.3334636"
      ],
      "text/markdown": [
       "1.3334636"
      ],
      "text/plain": [
       "[1] 1.333464"
      ]
     },
     "metadata": {},
     "output_type": "display_data"
    }
   ],
   "source": [
    "num_visitas(10e6)"
   ]
  }
 ],
 "metadata": {
  "kernelspec": {
   "display_name": "R",
   "language": "R",
   "name": "ir"
  },
  "language_info": {
   "codemirror_mode": "r",
   "file_extension": ".r",
   "mimetype": "text/x-r-source",
   "name": "R",
   "pygments_lexer": "r",
   "version": "4.0.3"
  }
 },
 "nbformat": 4,
 "nbformat_minor": 5
}
